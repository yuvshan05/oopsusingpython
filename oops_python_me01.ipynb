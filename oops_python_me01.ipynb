{
  "nbformat": 4,
  "nbformat_minor": 0,
  "metadata": {
    "colab": {
      "provenance": [],
      "authorship_tag": "ABX9TyOPv7meFmyJj/QHoleZG8GV",
      "include_colab_link": true
    },
    "kernelspec": {
      "name": "python3",
      "display_name": "Python 3"
    },
    "language_info": {
      "name": "python"
    }
  },
  "cells": [
    {
      "cell_type": "markdown",
      "metadata": {
        "id": "view-in-github",
        "colab_type": "text"
      },
      "source": [
        "<a href=\"https://colab.research.google.com/github/yuvshan05/oopsusingpython/blob/main/oops_python_me01.ipynb\" target=\"_parent\"><img src=\"https://colab.research.google.com/assets/colab-badge.svg\" alt=\"Open In Colab\"/></a>"
      ]
    },
    {
      "cell_type": "code",
      "execution_count": 4,
      "metadata": {
        "colab": {
          "base_uri": "https://localhost:8080/"
        },
        "id": "059huClkqTgR",
        "outputId": "613bfbd3-1fc6-4cd4-a2ae-485b1b212ef3"
      },
      "outputs": [
        {
          "output_type": "stream",
          "name": "stdout",
          "text": [
            "kamlesh\n"
          ]
        }
      ],
      "source": [
        "class employee:\n",
        "  def __init__(self , name , age , level):\n",
        "    self.name=name\n",
        "    self.age=age\n",
        "    self.level=level\n",
        "\n",
        "kamlesh=employee(\"kamlesh\",21,\"software engineer\")\n",
        "print(kamlesh.name)"
      ]
    },
    {
      "cell_type": "code",
      "source": [
        "class employee:\n",
        "  def __init__(self , name , age , level):\n",
        "    self.name=name\n",
        "    self.age=age\n",
        "    self.level=level\n",
        "  def coder(self):\n",
        "    print(f'{self.name} is a coder')\n",
        "\n",
        "kamlesh=employee(\"kamlesh\",21,\"software engineer\")\n",
        "\n",
        "\n",
        "kamlesh.coder()"
      ],
      "metadata": {
        "colab": {
          "base_uri": "https://localhost:8080/"
        },
        "id": "eYsQcUeDtFJw",
        "outputId": "f1377981-305f-4e62-e146-50276525d225"
      },
      "execution_count": 8,
      "outputs": [
        {
          "output_type": "stream",
          "name": "stdout",
          "text": [
            "kamlesh is a coder\n"
          ]
        }
      ]
    },
    {
      "cell_type": "code",
      "source": [
        "class boss(employee):\n",
        "  def __init__(self,name,age,level,occupation):\n",
        "    super().__init__(name,age,level)\n",
        "    self.occupation=occupation\n",
        "  def isboss(self):\n",
        "    print(f'{self.name} is boss')\n",
        "\n",
        "\n",
        "yuvraj=boss(\"yuvshan\",20,\"ceo\",\"engineer\")\n",
        "yuvraj.isboss()\n",
        "print(yuvraj.occupation)\n",
        "yuvraj.coder()\n",
        "\n"
      ],
      "metadata": {
        "colab": {
          "base_uri": "https://localhost:8080/"
        },
        "id": "W4HlkYZ0t3Wt",
        "outputId": "ad1d28a8-8062-4625-8323-a83be6603465"
      },
      "execution_count": 18,
      "outputs": [
        {
          "output_type": "stream",
          "name": "stdout",
          "text": [
            "yuvshan is boss\n",
            "engineer\n",
            "yuvshan is a coder\n"
          ]
        }
      ]
    },
    {
      "cell_type": "code",
      "source": [
        "class kk(employee):\n",
        "  def __init__(self,name,age,level):\n",
        "    super().__init__(name,age,level)\n",
        "    self.name=name\n",
        "    self.age=age\n",
        "    self.level=level\n",
        "    self._cash=None\n",
        "  def getcash(self):\n",
        "    return self._cash\n",
        "  def setcash(self,value):\n",
        "    self._cash=value\n",
        "yu=kk(\"yuvraj\",20,\"engineer\")\n",
        "yu.setcash(56025)\n",
        "print(yu.getcash())\n"
      ],
      "metadata": {
        "colab": {
          "base_uri": "https://localhost:8080/"
        },
        "id": "RWk73SV4-Xir",
        "outputId": "a5a1286f-9604-4ad1-a66e-55ac1d4a394e"
      },
      "execution_count": 27,
      "outputs": [
        {
          "output_type": "stream",
          "name": "stdout",
          "text": [
            "56025\n"
          ]
        }
      ]
    },
    {
      "cell_type": "code",
      "source": [],
      "metadata": {
        "id": "seDR3AnVuYL3"
      },
      "execution_count": null,
      "outputs": []
    }
  ]
}